{
 "cells": [
  {
   "cell_type": "code",
   "execution_count": null,
   "metadata": {},
   "outputs": [],
   "source": [
    "import pandas as pd\n",
    "\n",
    "with open ('./tiny-imagenet-200/val/val_annotations.txt','r')as f :\n",
    "    labels = f.read().splitlines()\n",
    "data_labels=[]\n",
    "for label in labels:\n",
    "    data=label.split('\\t')\n",
    "    data_labels.append(data)\n",
    "\n",
    "df = pd.DataFrame(data_labels)\n",
    "df.columns=['file','dir','label1','label2','label3','label4']\n",
    "# display(df)"
   ]
  },
  {
   "cell_type": "markdown",
   "metadata": {},
   "source": [
    "## 分组"
   ]
  },
  {
   "cell_type": "code",
   "execution_count": null,
   "metadata": {},
   "outputs": [],
   "source": [
    "group = df.groupby('dir') \n",
    "# for name,data in group:\n",
    "#     print(name)\n",
    "#     display(data)"
   ]
  },
  {
   "cell_type": "markdown",
   "metadata": {},
   "source": [
    "## 移动文件对验证集规整"
   ]
  },
  {
   "cell_type": "code",
   "execution_count": null,
   "metadata": {},
   "outputs": [],
   "source": [
    "import os\n",
    "import shutil\n",
    "def movefile(oripath,tardir):\n",
    "    filename = os.path.basename(oripath)\n",
    "    tarpath = os.path.join(tardir, filename)\n",
    "    #判断原始文件路劲是否存在\n",
    "    if not os.path.exists(oripath):\n",
    "        print('the dir is not exist:%s' % oripath)\n",
    "        status = 0\n",
    "    else:\n",
    "     #判断目标文件夹是否存在\n",
    "        if os.path.exists(tardir):\n",
    "        #判断目标文件夹里原始文件是否存在，存在则删除\n",
    "            if os.path.exists(tarpath):\n",
    "                os.remove(tarpath)\n",
    "        else:\n",
    "         #目标文件夹不存在则创建目标文件夹\n",
    "            os.makedirs(tardir)\n",
    "          #移动文件\n",
    "        shutil.move(oripath, tardir)\n",
    "\n",
    "        status = 1\n",
    "\n",
    "    return status"
   ]
  },
  {
   "cell_type": "code",
   "execution_count": null,
   "metadata": {},
   "outputs": [],
   "source": [
    "dir = './tiny-imagenet-200/val'\n",
    "for name,data in group:\n",
    "    tardir = dir+'/'+name+'/images'\n",
    "    oridir = dir+'/images'\n",
    "    for file in data['file']:\n",
    "        \n",
    "        oripath = oridir+'/'+file\n",
    "        # print(tarpath)\n",
    "        # print(oripath)\n",
    "        print(movefile(oripath=oripath,tardir=tardir))\n",
    "    del data['dir']\n",
    "    with open(f'{dir}/{name}/{name}_boxes.txt','w')as f:\n",
    "        pass\n",
    "    data.to_csv(f'{dir}/{name}/{name}_boxes.txt')\n",
    "    \n",
    "    \n",
    "    "
   ]
  },
  {
   "cell_type": "code",
   "execution_count": null,
   "metadata": {},
   "outputs": [],
   "source": [
    "with open('tiny-imagenet-200/wnids.txt') as f:\n",
    "    names = f.read().splitlines()\n",
    "dir = 'tiny-imagenet-200/val/'\n",
    "for name in names:\n",
    "    with open (f'{dir}{name}/{name}_boxes.txt','r')as f:\n",
    "        data = f.read().splitlines()\n",
    "        del data[0]\n",
    "        results = []\n",
    "        for i in data:\n",
    "            res = i.split(',')\n",
    "            del res[0]\n",
    "            res = '\\t'.join(res)\n",
    "            results.append(res)\n",
    "        # print(results)\n",
    "    with open (f'{dir}{name}/{name}_boxes.txt','w')as f:\n",
    "        f.write('\\n'.join(results))"
   ]
  },
  {
   "cell_type": "code",
   "execution_count": null,
   "metadata": {},
   "outputs": [],
   "source": []
  }
 ],
 "metadata": {
  "interpreter": {
   "hash": "7694f31ed5eda9214c114bd0c22dc4757bcbdea949bef4d4aef9defcec178a5f"
  },
  "kernelspec": {
   "display_name": "Python 3.10.1 64-bit",
   "language": "python",
   "name": "python3"
  },
  "language_info": {
   "codemirror_mode": {
    "name": "ipython",
    "version": 3
   },
   "file_extension": ".py",
   "mimetype": "text/x-python",
   "name": "python",
   "nbconvert_exporter": "python",
   "pygments_lexer": "ipython3",
   "version": "3.10.1"
  },
  "orig_nbformat": 4
 },
 "nbformat": 4,
 "nbformat_minor": 2
}
